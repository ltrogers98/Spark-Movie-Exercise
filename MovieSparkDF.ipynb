{
 "cells": [
  {
   "cell_type": "code",
   "execution_count": 1,
   "metadata": {},
   "outputs": [],
   "source": [
    "import pyspark"
   ]
  },
  {
   "cell_type": "code",
   "execution_count": 2,
   "metadata": {},
   "outputs": [],
   "source": [
    "from pyspark import SparkContext\n",
    "from pyspark import SQLContext\n",
    "import pandas as pd"
   ]
  },
  {
   "cell_type": "code",
   "execution_count": 3,
   "metadata": {},
   "outputs": [],
   "source": [
    "#start up spark and sql context for dataframes!\n",
    "sc = SparkContext('local','MovieSpark')\n",
    "sqlContext = SQLContext(sc)\n"
   ]
  },
  {
   "cell_type": "code",
   "execution_count": 4,
   "metadata": {},
   "outputs": [],
   "source": [
    "my_bucket = 'rogers-bucket-test-814'\n",
    "my_key = 'movie-corpus-CSV/movie_characters_metadata.csv'\n",
    "my_key2 = 'movie-corpus-CSV/movie_titles_metadata.csv'\n",
    "\n",
    "from pyspark.sql.types import *\n",
    "from s3fs.core import S3FileSystem\n",
    "\n",
    "#this is a bit convoluted b/c we are using s3 but...\n",
    "#first we read the data into pandas\n",
    "\n",
    "s3 = S3FileSystem(anon=False)\n",
    "df = pd.read_csv(s3.open('{}/{}'.format(my_bucket, my_key), mode='rb'))\n"
   ]
  },
  {
   "cell_type": "code",
   "execution_count": 5,
   "metadata": {
    "scrolled": true
   },
   "outputs": [],
   "source": [
    "#now we convert to a \"pyspark\" dataframe which is distributed using\n",
    "#our sqlContext, we also use a struct to make sure all the \n",
    "#columns have the names we want and the types (sometimes the conversion from\n",
    "#pandas to dataframe gets messed up b/c of type issues)\n",
    "movieSchema = StructType([StructField(\"character_id\", StringType(), False), \\\n",
    "                      StructField(\"character_name\", StringType(), False),\\\n",
    "                      StructField(\"movie_id\", StringType(), False),\\\n",
    "                      StructField(\"movie_name\", StringType(), False),\\\n",
    "                      StructField(\"character_gender\", StringType(), False),\\\n",
    "                      StructField(\"position_in_credits\", StringType(), False)])\n",
    "\n",
    "\n",
    "pyDF = sqlContext.createDataFrame(df,schema=movieSchema)"
   ]
  },
  {
   "cell_type": "code",
   "execution_count": 6,
   "metadata": {},
   "outputs": [
    {
     "name": "stdout",
     "output_type": "stream",
     "text": [
      "root\n",
      " |-- movie_id: string (nullable = true)\n",
      " |-- movie_title: string (nullable = true)\n",
      " |-- movie_year: string (nullable = true)\n",
      " |-- IMDB_rating: double (nullable = true)\n",
      " |-- IMDB_votes: long (nullable = true)\n",
      " |-- genres: string (nullable = true)\n",
      "\n"
     ]
    }
   ],
   "source": [
    "#Read in the title csv file and create a data frame for it\n",
    "dfTitle = pd.read_csv(s3.open('{}/{}'.format(my_bucket, my_key2), mode='rb')) \n",
    "pyDFTitle = sqlContext.createDataFrame(dfTitle)\n",
    "pyDFTitle.printSchema()\t\n"
   ]
  },
  {
   "cell_type": "code",
   "execution_count": 7,
   "metadata": {},
   "outputs": [
    {
     "name": "stdout",
     "output_type": "stream",
     "text": [
      "root\n",
      " |-- character_id: string (nullable = false)\n",
      " |-- character_name: string (nullable = false)\n",
      " |-- movie_id: string (nullable = false)\n",
      " |-- movie_name: string (nullable = false)\n",
      " |-- character_gender: string (nullable = false)\n",
      " |-- position_in_credits: string (nullable = false)\n",
      "\n",
      "+------------+--------------+--------+--------------------+----------------+-------------------+\n",
      "|character_id|character_name|movie_id|          movie_name|character_gender|position_in_credits|\n",
      "+------------+--------------+--------+--------------------+----------------+-------------------+\n",
      "|          u0|        BIANCA|      m0|10 things i hate ...|               f|                  4|\n",
      "|          u1|         BRUCE|      m0|10 things i hate ...|               ?|                  ?|\n",
      "|          u2|       CAMERON|      m0|10 things i hate ...|               m|                  3|\n",
      "|          u3|      CHASTITY|      m0|10 things i hate ...|               ?|                  ?|\n",
      "|          u4|          JOEY|      m0|10 things i hate ...|               m|                  6|\n",
      "+------------+--------------+--------+--------------------+----------------+-------------------+\n",
      "only showing top 5 rows\n",
      "\n"
     ]
    }
   ],
   "source": [
    "#look at our schema to make sure everything read well\n",
    "pyDF.printSchema()\n",
    "pyDF.show(5)"
   ]
  },
  {
   "cell_type": "code",
   "execution_count": 8,
   "metadata": {},
   "outputs": [],
   "source": [
    "#Find the average vote\n",
    "pyDFTitle = pyDFTitle.withColumn('IMDB_Avg_Rating',pyDFTitle['IMDB_rating'] / pyDFTitle['IMDB_votes'])"
   ]
  },
  {
   "cell_type": "code",
   "execution_count": 9,
   "metadata": {},
   "outputs": [],
   "source": [
    "#Filter for movie after 1990\n",
    "pyDFTitle = pyDFTitle.filter(pyDFTitle['movie_year'] > '1990')"
   ]
  },
  {
   "cell_type": "code",
   "execution_count": 10,
   "metadata": {},
   "outputs": [],
   "source": [
    "#Join by movie_id to create new dataframe called pyDFCharMovie\n",
    "pyDFCharMovie = pyDFTitle.join(pyDF, pyDFTitle.movie_id == pyDF.movie_id)"
   ]
  },
  {
   "cell_type": "code",
   "execution_count": 11,
   "metadata": {},
   "outputs": [],
   "source": [
    "#Order by movie year\n",
    "pyDFCharMovie = pyDFCharMovie.orderBy(pyDFCharMovie['movie_year'].desc())"
   ]
  },
  {
   "cell_type": "code",
   "execution_count": 12,
   "metadata": {},
   "outputs": [],
   "source": [
    "bytes_to_write = pyDFCharMovie.toPandas().to_csv(None).encode()\n",
    "with s3.open('s3://rogers-bucket-test-814/movie-corpus-CSV/fused_data.csv', 'wb') as f:\n",
    "   \tf.write(bytes_to_write)\n"
   ]
  },
  {
   "cell_type": "code",
   "execution_count": null,
   "metadata": {},
   "outputs": [],
   "source": []
  }
 ],
 "metadata": {
  "kernelspec": {
   "display_name": "conda_python3",
   "language": "python",
   "name": "conda_python3"
  },
  "language_info": {
   "codemirror_mode": {
    "name": "ipython",
    "version": 3
   },
   "file_extension": ".py",
   "mimetype": "text/x-python",
   "name": "python",
   "nbconvert_exporter": "python",
   "pygments_lexer": "ipython3",
   "version": "3.6.10"
  }
 },
 "nbformat": 4,
 "nbformat_minor": 4
}
